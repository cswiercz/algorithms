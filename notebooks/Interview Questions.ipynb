{
 "cells": [
  {
   "cell_type": "markdown",
   "metadata": {},
   "source": [
    "# 1.1 Is Unique\n",
    "\n",
    "Implement an algorihtm to determine if a string has all unique characters. What if we cannot use additional data structures?\n",
    "\n",
    "## Answer - Hash Table / Dictionary\n",
    "\n",
    "* uniqueness checking = use a hash table\n",
    "* hash a character. if it's already in the hash table then we've seen it before and return false. otherwise return true\n",
    "* runtime:\n",
    "  * hash a character: O(1)\n",
    "  * n characters -> O(n)\n",
    "  * do this once on a string"
   ]
  },
  {
   "cell_type": "code",
   "execution_count": 1,
   "metadata": {
    "collapsed": false
   },
   "outputs": [],
   "source": [
    "from collections import defaultdict\n",
    "\n",
    "def is_unique(string):\n",
    "    d = defaultdict(int)\n",
    "    for character in string:\n",
    "        index = hash(character)\n",
    "        if d[index]:\n",
    "            return False\n",
    "        \n",
    "        d[index] = 1\n",
    "    return True\n",
    "\n",
    "# tests\n",
    "assert(is_unique('a'))\n",
    "assert(is_unique(''))\n",
    "assert(is_unique('abc'))\n",
    "assert(not is_unique('aa'))\n",
    "assert(not is_unique('hotelmotelholidayinn'))"
   ]
  },
  {
   "cell_type": "markdown",
   "metadata": {},
   "source": [
    "## Can we do better?\n",
    "\n",
    "*Time*: No. At the very least each character needs to be visited.\n",
    "\n",
    "*Memory*: Maybe.\n",
    "\n",
    "## Book Answer\n",
    "\n",
    "* Uses a fixed length array O(n)\n",
    "* Also uses a bit vector of length \n",
    "* No additional data strctures:\n",
    "  * O(n^2) --- compare everything with everything after it\n",
    "  * O(n log(n)) + O(n) --- sort and then compare neighbors\n",
    "  \n",
    "### Side Note: Python's Sorting Algorithm\n",
    "\n",
    "Python uses [timsort](https://en.wikipedia.org/wiki/Timsort)\n",
    "* Time:\n",
    "  * $O(n)$ best\n",
    "  * $O(n \\log(n))$ average\n",
    "  * $O(n \\log(n))$ worst\n",
    "* Memory: $O(n)$"
   ]
  },
  {
   "cell_type": "code",
   "execution_count": null,
   "metadata": {
    "collapsed": false
   },
   "outputs": [],
   "source": []
  },
  {
   "cell_type": "markdown",
   "metadata": {},
   "source": [
    "## 1.2 Check Permutation\n",
    "\n",
    "Given two strings, write a method to decide if one is a permutation of the other.\n",
    "\n",
    "## Solution\n",
    "\n",
    "Can also be solved by a hash table: keys = h(characters), values = #occurrences in `s1`. After processing `s1` you next process the characters `c` in `s2`.\n",
    "* if `c` is not in the hash table: return False\n",
    "* if `c` is in the hash table:\n",
    "    if d[`c`] == 0: return false\n",
    "    else: d[`c`] -= 1\n",
    "\n",
    "**Complexity**\n",
    "* Time: $2n = O(n)$\n",
    "  * n hash stores ($O(1)$ each) in `s1`, n hashes in `s2`\n",
    "* Memory: $n = O(n)$\n",
    "  * best case: $1 = O(1)$ (both strings contain only one letter)\n",
    "  * worst case: $n = O(n)$. ($n$ different letters)"
   ]
  },
  {
   "cell_type": "code",
   "execution_count": 2,
   "metadata": {
    "collapsed": false
   },
   "outputs": [],
   "source": [
    "from collections import defaultdict\n",
    "\n",
    "def is_permutation(s1, s2):\n",
    "    # first check if s1 and s2 are same length\n",
    "    if len(s1) != len(s2):\n",
    "        return False\n",
    "    \n",
    "    d = defaultdict(int)\n",
    "    \n",
    "    # store s1\n",
    "    for c in s1:\n",
    "        d[c] += 1\n",
    "        \n",
    "    # compare with s2\n",
    "    for c in s2:\n",
    "        if not d[c]:\n",
    "            return False\n",
    "        else:\n",
    "            d[c] -= 1\n",
    "    return True\n",
    "\n",
    "# tests\n",
    "assert(is_permutation('', ''))\n",
    "assert(is_permutation('a', 'a'))\n",
    "assert(is_permutation('ab', 'ba'))\n",
    "assert(is_permutation('abc', 'cab'))\n",
    "assert(not is_permutation('abc', 'caa'))\n",
    "assert(not is_permutation('abc', ''))\n",
    "assert(not is_permutation('', 'abc'))\n"
   ]
  },
  {
   "cell_type": "markdown",
   "metadata": {},
   "source": [
    "### Can we reduce constant factor from subtraction?\n",
    "\n",
    "We can use a null stack and pop.\n",
    "\n",
    "* Memory: $O(n)$\n",
    "  * worst case: $n = O(n)$ (even if there is only one letter you need $n$ list elements to track the occurrences\n",
    "  * best case: $n$\n",
    "  \n",
    "However, the memory operations to create a stack node may take longer than integer arithmetic. (1 cycle for addition)"
   ]
  },
  {
   "cell_type": "code",
   "execution_count": 3,
   "metadata": {
    "collapsed": true
   },
   "outputs": [],
   "source": [
    "from collections import defaultdict\n",
    "\n",
    "def is_permutation(s1, s2):\n",
    "    # first check if s1 and s2 are same length\n",
    "    if len(s1) != len(s2):\n",
    "        return False\n",
    "    \n",
    "    d = defaultdict(list)\n",
    "    \n",
    "    # store s1\n",
    "    for c in s1:\n",
    "        d[c].append(None)\n",
    "        \n",
    "    # compare with s2\n",
    "    for c in s2:\n",
    "        if not d[c]:\n",
    "            return False\n",
    "        else:\n",
    "            d[c].pop()\n",
    "    return True\n",
    "\n",
    "# tests\n",
    "assert(is_permutation('', ''))\n",
    "assert(is_permutation('a', 'a'))\n",
    "assert(is_permutation('ab', 'ba'))\n",
    "assert(is_permutation('abc', 'cab'))\n",
    "assert(not is_permutation('abc', 'caa'))\n",
    "assert(not is_permutation('abc', ''))\n",
    "assert(not is_permutation('', 'abc'))\n",
    "\n"
   ]
  },
  {
   "cell_type": "markdown",
   "metadata": {},
   "source": [
    "# 1.9 String Rotation\n",
    "\n",
    "Assume you have a method `isSubstring` which checks is one word is a substring of antoher. Given two strings, `s1`, and `s2`, write code to check if `s2` is a rotation of `s1` using only one call to `isSubstring` (e.g. `waterbottle` is a rotation of `erbottlewat`.)\n",
    "\n",
    "## Attempt\n",
    "\n",
    "We might first assume that we can take, say, the first four letters of `waterbottle` and check if it's a substring of `s2`. However, this wouldn't work since `wate` is not a substring of `s2`.\n",
    "\n",
    "Consider the first character of `s1` and find all the positions in `s2` where the character occurs. Store indices in queue.\n",
    "* $O(n)$ operation\n",
    "\n",
    "Now take the second character of `s1`. dequeue an index `i` and check if `i+1 % n` of `s2` is equal to the character. If so, enqueue `i+1 % n`. Otherwise, discard.\n",
    "* $O(n)$ operation\n",
    "\n",
    "Problem: we need to keep track of old and new parts. Use two queues?\n",
    "\n",
    "Repeat: need to do this $n$ times so this is an $O(n^2)$ solution."
   ]
  },
  {
   "cell_type": "code",
   "execution_count": 4,
   "metadata": {
    "collapsed": false
   },
   "outputs": [],
   "source": [
    "def is_rotation(s1, s2):\n",
    "    n = len(s1)\n",
    "    if n != len(s2):\n",
    "        return False\n",
    "    \n",
    "    # get the indices in s2 matching s1[0]\n",
    "    current = [i for i in range(n) if s1[0] == s2[i]]\n",
    "    for k in range(1,n):\n",
    "        # get the indices in s2 matching s1[i]\n",
    "        next = [(i+1) % n for i in current if s1[k] == s2[(i+1) % n]]\n",
    "        current = next\n",
    "        \n",
    "        if current == []:\n",
    "            return False\n",
    "        \n",
    "    return True\n",
    "    \n",
    "    \n",
    "# tests\n",
    "assert(is_rotation('abc', 'abc'))\n",
    "assert(is_rotation('abc', 'cab'))\n",
    "assert(is_rotation('waterbottle', 'erbottlewat'))\n",
    "assert(is_rotation('aaabbbccc', 'aabbbccca'))\n",
    "\n",
    "assert(not is_rotation('abc', 'acb'))\n",
    "\n",
    "def shift_check(s1):\n",
    "    n = len(s1)\n",
    "    for k in range(n):\n",
    "        s2 = s1[:n] + s1[n:]\n",
    "        assert(is_rotation(s1,s2))\n",
    "        \n",
    "shift_check('banana')\n",
    "shift_check('abracadabra')\n",
    "shift_check('puppymonkeybaby')\n",
    "shift_check('aaaaaaaaaaaaah')"
   ]
  },
  {
   "cell_type": "markdown",
   "metadata": {},
   "source": [
    "The worst case is when the string consists of `n` equal characters.\n",
    "\n",
    "## Anything Faster?\n",
    "\n",
    "Hint: try concatenating `s2` with itself.\n",
    "\n",
    "## Solution\n",
    "\n",
    "if `s1` splits into two parts `x` and `y` such that `xy = s1` and `yx = s2` then we're done. However, `yx` is always a substring of `xyxy = s1s1`. So the solution is to do\n",
    "\n",
    "`is_substring(s1s1, s2)`"
   ]
  },
  {
   "cell_type": "markdown",
   "metadata": {},
   "source": [
    "# Random Problem - p. 67\n",
    "\n",
    "Given an array of distinct integer values, count the number of pairs of integers that have difference `k`. For example, given `{1, 7, 5, 9, 2, 12, 3}` and `k = 2` there are four pairs with difference 2: `(1,3), (3,5), (5,7), (7,9)`.\n",
    "\n",
    "# My Solution\n",
    "\n",
    "Easier to determine differences after sorting: check current and next. \n",
    "* sorting: $O(n \\log n)$\n",
    "* checking: single forward scan $O(n)$\n",
    "* ==> $O(n \\log n)$\n",
    "\n",
    "Is there an approach faster than $O(n \\log n)$?\n",
    "\n",
    "`a - b = k iff h(a-b) = h(k) iff h(a) == h(k+b)`\n",
    "\n",
    "One approach is to take the array, `arr`, and the shfited array `arr + k`. hash the elements of `arr` and the hash the elements of `arr + k`. If there is collision then we found a pair.\n",
    "\n",
    "Does it matter that `a > b`\n",
    "\n",
    "`a - b < 0 ==> b - a > 0 ==> b - a == k iff b == k + a iff h(b) = h(k+a)`\n",
    "\n",
    "but we end up computing h(b) anyway from `arr` and `h(k+a)` from `arr + k`. So we shouldn't have to check for which is greater or not.\n",
    "\n",
    "**Complexity**\n",
    "\n",
    "* Total 2n hashes computed: Time = $O(n)$\n",
    "* Only n hashes stored: Mem = $O(n)$"
   ]
  },
  {
   "cell_type": "code",
   "execution_count": 5,
   "metadata": {
    "collapsed": false
   },
   "outputs": [
    {
     "name": "stdout",
     "output_type": "stream",
     "text": [
      "4\n"
     ]
    }
   ],
   "source": [
    "from collections import defaultdict\n",
    "\n",
    "def f(arr, k):\n",
    "    d = defaultdict(int)\n",
    "    num_pairs = 0\n",
    "    \n",
    "    for a in arr:\n",
    "        d[hash(a)] = 1\n",
    "        \n",
    "    for b in arr:\n",
    "        if d[hash(b+k)]:\n",
    "            num_pairs += 1\n",
    "            \n",
    "    return num_pairs\n",
    "\n",
    "arr = [1, 7, 5, 9, 2, 12, 3]\n",
    "print f(arr, 2)"
   ]
  },
  {
   "cell_type": "markdown",
   "metadata": {},
   "source": [
    "# Random Problem - p. 70\n",
    "\n",
    "Given a smaller string `s` and a bigger string `b` design an algorithm to find all permutations of the shorter string within the longer one. Print the location of each permutation.\n",
    "\n",
    "## My Solution\n",
    "\n",
    "The wrong way: create a list of all permutations of `s` and perform a linear search on `b` for each one. $O(|b|\\;|s|!)$\n",
    "\n",
    "Create a hash table with `character of s` |-> `number of occurrences`. Then, starting at the first character of `b` scan up to `|s|` spaces and decrement the corresponding number of occurences:\n",
    "* if there is a key error, break and move to one past the key error (any subsequent words won't work until afterwards)\n",
    "* if by the time we reach |s| increment by one and repeat\n",
    "* otherwise, if we reach |s| and the number of occurrences is now zero we add the index to the list\n",
    "\n",
    "example\n",
    "\n",
    "`s = cat`\n",
    "`b = tacocat`\n",
    "\n",
    "output\n",
    "\n",
    "`0,4`\n",
    "\n",
    "**Analysis**\n",
    "\n",
    "* Creation of `s` hash table: $O(s)$\n",
    "* Scanning each `|s|` block of text in `b`: $O(s)$\n",
    "* Number of substrings we need to check: $O(b-s)$\n",
    "* Total: $O(s(b-s)) = O(sb)$\n",
    "* Skipping trick (constant factor)"
   ]
  },
  {
   "cell_type": "code",
   "execution_count": 6,
   "metadata": {
    "collapsed": false
   },
   "outputs": [],
   "source": [
    "from collections import defaultdict\n",
    "\n",
    "def all_permutations(s, b):\n",
    "    d = defaultdict(int)\n",
    "    \n",
    "    # build the s-character dictionary\n",
    "    for char in s:\n",
    "        d[char] += 1\n",
    "        \n",
    "    # start scanning\n",
    "    indices = []\n",
    "    n = len(b) - len(s) + 1\n",
    "    s = len(s)\n",
    "    for i in range(n):\n",
    "        # we want a copy since Python assigns dictionaries by reference\n",
    "        d_pass = d.copy()\n",
    "        \n",
    "        is_substring = True\n",
    "        for j in range(s):\n",
    "            char = b[i+j]\n",
    "            if d_pass[char] > 0:\n",
    "                d_pass[char] -= 1\n",
    "            else:\n",
    "                is_substring = False\n",
    "                break\n",
    "                \n",
    "        if is_substring:\n",
    "            indices.append(i)\n",
    "            \n",
    "    return indices\n",
    "            \n",
    "# tests\n",
    "\n",
    "assert(all_permutations('a', 'a') == [0])\n",
    "assert(all_permutations('a', 'aa') == [0,1])\n",
    "assert(all_permutations('a', 'aaa') == [0,1,2])\n",
    "assert(all_permutations('a', 'aba') == [0,2])\n",
    "assert(all_permutations('ab', 'abcba') == [0,3])\n",
    "assert(all_permutations('bc', 'abcba') == [1,2])\n",
    "\n",
    "assert(all_permutations('cat', 'tacocat') == [0,4])\n",
    "\n"
   ]
  },
  {
   "cell_type": "markdown",
   "metadata": {},
   "source": [
    "## Alternate Approach\n",
    "\n",
    "I'm thinking we might be able to get this down to $O(b-s) + O(s)$ by using a \"scanner approach\".\n",
    "\n",
    "`s = bat`\n",
    "\n",
    "`b = otbafabstab`\n",
    "\n",
    "`otbafabstab` should output `[1, 8]`\n",
    "\n",
    "* intialize on first s: count the number of matching letters\n",
    "\n",
    "no. this will still be O(s(b-s)) time. "
   ]
  },
  {
   "cell_type": "code",
   "execution_count": null,
   "metadata": {
    "collapsed": false
   },
   "outputs": [],
   "source": []
  },
  {
   "cell_type": "code",
   "execution_count": null,
   "metadata": {
    "collapsed": true
   },
   "outputs": [],
   "source": []
  }
 ],
 "metadata": {
  "kernelspec": {
   "display_name": "Python 2",
   "language": "python",
   "name": "python2"
  },
  "language_info": {
   "codemirror_mode": {
    "name": "ipython",
    "version": 2
   },
   "file_extension": ".py",
   "mimetype": "text/x-python",
   "name": "python",
   "nbconvert_exporter": "python",
   "pygments_lexer": "ipython2",
   "version": "2.7.11"
  }
 },
 "nbformat": 4,
 "nbformat_minor": 0
}
